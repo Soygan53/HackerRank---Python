{
  "nbformat": 4,
  "nbformat_minor": 0,
  "metadata": {
    "colab": {
      "provenance": []
    },
    "kernelspec": {
      "name": "python3",
      "display_name": "Python 3"
    },
    "language_info": {
      "name": "python"
    }
  },
  "cells": [
    {
      "cell_type": "code",
      "execution_count": 13,
      "metadata": {
        "colab": {
          "base_uri": "https://localhost:8080/"
        },
        "id": "Anfy5eHLPFSQ",
        "outputId": "2aeb7c9d-b61d-49ce-e319-fc86b0dce074"
      },
      "outputs": [
        {
          "output_type": "stream",
          "name": "stdout",
          "text": [
            "HackerRank.com presents \"Pythonist 2\".\n",
            "hACKERrANK.COM PRESENTS \"pYTHONIST 2\".\n"
          ]
        }
      ],
      "source": [
        "\"\"\"\n",
        "DEFINITION OF PROBLEM\n",
        "-----------------------------------------------------------------------------------------------\n",
        "Task\n",
        "You are given a string and your task is to swap cases. In other words, convert all lowercase letters to uppercase letters and vice versa.\n",
        "\n",
        "For Example:\n",
        "\n",
        "Www.HackerRank.com → wWW.hACKERrANK.COM\n",
        "Pythonist 2 → pYTHONIST 2\n",
        "Function Description\n",
        "\n",
        "Complete the swap_case function in the editor below.\n",
        "\n",
        "swap_case has the following parameters:\n",
        "\n",
        "string s: the string to modify\n",
        "Returns\n",
        "\n",
        "string: the modified string\n",
        "Input Format\n",
        "\n",
        "A single line containing a string .\n",
        "\n",
        "Constraints\n",
        "\n",
        "\n",
        "Sample Input 0\n",
        "\n",
        "HackerRank.com presents \"Pythonist 2\".\n",
        "Sample Output 0\n",
        "\n",
        "hACKERrANK.COM PRESENTS \"pYTHONIST 2\".\n",
        "-------------------------------------------------------------------------------------------------\n",
        "\"\"\"\n",
        "#Created by Ahmet Sina Soykan\n",
        "\n",
        "def swap_case(s):\n",
        "    s2 = s.swapcase()\n",
        "    return(s2)\n",
        "\n",
        "if __name__ == '__main__':\n",
        "    s = input()\n",
        "    result = swap_case(s)\n",
        "    print(result)"
      ]
    }
  ]
}