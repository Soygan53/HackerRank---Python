{
  "nbformat": 4,
  "nbformat_minor": 0,
  "metadata": {
    "colab": {
      "provenance": []
    },
    "kernelspec": {
      "name": "python3",
      "display_name": "Python 3"
    },
    "language_info": {
      "name": "python"
    }
  },
  "cells": [
    {
      "cell_type": "code",
      "execution_count": 14,
      "metadata": {
        "colab": {
          "base_uri": "https://localhost:8080/"
        },
        "id": "Anfy5eHLPFSQ",
        "outputId": "5edaf950-7cbc-40b9-9248-c9e4604abd9d"
      },
      "outputs": [
        {
          "output_type": "stream",
          "name": "stdout",
          "text": [
            "this is a string\n",
            "this-is-a-string\n"
          ]
        }
      ],
      "source": [
        "\"\"\"\n",
        "DEFINITION OF PROBLEM\n",
        "-----------------------------------------------------------------------------------------------\n",
        "Task\n",
        "In Python, a string can be split on a delimiter.\n",
        "\n",
        "Example:\n",
        "\n",
        ">>> a = \"this is a string\"\n",
        ">>> a = a.split(\" \") # a is converted to a list of strings.\n",
        ">>> print a\n",
        "['this', 'is', 'a', 'string']\n",
        "Joining a string is simple:\n",
        "\n",
        ">>> a = \"-\".join(a)\n",
        ">>> print a\n",
        "this-is-a-string\n",
        "Task\n",
        "You are given a string. Split the string on a \" \" (space) delimiter and join using a - hyphen.\n",
        "\n",
        "Function Description\n",
        "\n",
        "Complete the split_and_join function in the editor below.\n",
        "\n",
        "split_and_join has the following parameters:\n",
        "\n",
        "string line: a string of space-separated words\n",
        "Returns\n",
        "\n",
        "string: the resulting string\n",
        "Input Format\n",
        "The one line contains a string consisting of space separated words.\n",
        "\n",
        "Sample Input\n",
        "\n",
        "this is a string\n",
        "Sample Output\n",
        "\n",
        "this-is-a-string\n",
        "-------------------------------------------------------------------------------------------------\n",
        "\"\"\"\n",
        "#Created by Ahmet Sina Soykan\n",
        "\n",
        "def split_and_join(line):\n",
        "    splitted_line = line.split(\" \")\n",
        "    new_line = \"-\".join(splitted_line)\n",
        "    return(new_line)\n",
        "if __name__ == '__main__':\n",
        "    line = input()\n",
        "    result = split_and_join(line)\n",
        "    print(result)"
      ]
    }
  ]
}