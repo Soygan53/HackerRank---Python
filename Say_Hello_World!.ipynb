{
  "nbformat": 4,
  "nbformat_minor": 0,
  "metadata": {
    "colab": {
      "provenance": []
    },
    "kernelspec": {
      "name": "python3",
      "display_name": "Python 3"
    },
    "language_info": {
      "name": "python"
    }
  },
  "cells": [
    {
      "cell_type": "code",
      "execution_count": 1,
      "metadata": {
        "colab": {
          "base_uri": "https://localhost:8080/"
        },
        "id": "Anfy5eHLPFSQ",
        "outputId": "389e179d-de54-4575-81d5-c828d0807862"
      },
      "outputs": [
        {
          "output_type": "stream",
          "name": "stdout",
          "text": [
            "Hello, World!\n"
          ]
        }
      ],
      "source": [
        "\"\"\"\n",
        "DEFINITION OF PROBLEM\n",
        "-----------------------------------------------------------------------------------------------\n",
        "Here is a sample line of code that can be executed in Python:\n",
        "\n",
        "print(\"Hello, World!\")\n",
        "You can just as easily store a string as a variable and then print it to stdout:\n",
        "\n",
        "my_string = \"Hello, World!\"\n",
        "print(my_string)\n",
        "The above code will print Hello, World! on your screen. Try it yourself in the editor below!\n",
        "\n",
        "Input Format\n",
        "\n",
        "You do not need to read any input in this challenge.\n",
        "\n",
        "Output Format\n",
        "\n",
        "Print Hello, World! to stdout.\n",
        "\n",
        "Sample Output 0\n",
        "\n",
        "Hello, World!\n",
        "-------------------------------------------------------------------------------------------------\n",
        "\"\"\"\n",
        "#Created by Ahmet Sina Soykan\n",
        "\n",
        "print(\"Hello, World!\")"
      ]
    }
  ]
}