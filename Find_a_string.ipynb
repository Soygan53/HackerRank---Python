{
  "nbformat": 4,
  "nbformat_minor": 0,
  "metadata": {
    "colab": {
      "provenance": []
    },
    "kernelspec": {
      "name": "python3",
      "display_name": "Python 3"
    },
    "language_info": {
      "name": "python"
    }
  },
  "cells": [
    {
      "cell_type": "code",
      "execution_count": 16,
      "metadata": {
        "colab": {
          "base_uri": "https://localhost:8080/"
        },
        "id": "Anfy5eHLPFSQ",
        "outputId": "e90d35be-9de2-480d-a2b4-0547344c715f"
      },
      "outputs": [
        {
          "output_type": "stream",
          "name": "stdout",
          "text": [
            "ABCDCDC\n",
            "CDC\n",
            "2\n"
          ]
        }
      ],
      "source": [
        "\"\"\"\n",
        "DEFINITION OF PROBLEM\n",
        "-----------------------------------------------------------------------------------------------\n",
        "Task\n",
        "In this challenge, the user enters a string and a substring. You have to print the number of times that the substring occurs in the given string. String traversal will take place from left to right, not from right to left.\n",
        "\n",
        "NOTE: String letters are case-sensitive.\n",
        "\n",
        "Input Format\n",
        "\n",
        "The first line of input contains the original string. The next line contains the substring.\n",
        "\n",
        "Constraints\n",
        "\n",
        "\n",
        "Each character in the string is an ascii character.\n",
        "\n",
        "Output Format\n",
        "\n",
        "Output the integer number indicating the total number of occurrences of the substring in the original string.\n",
        "\n",
        "Sample Input\n",
        "\n",
        "ABCDCDC\n",
        "CDC\n",
        "Sample Output\n",
        "\n",
        "2\n",
        "Concept\n",
        "\n",
        "Some string processing examples, such as these, might be useful.\n",
        "There are a couple of new concepts:\n",
        "In Python, the length of a string is found by the function len(s), where  is the string.\n",
        "To traverse through the length of a string, use a for loop:\n",
        "\n",
        "for i in range(0, len(s)):\n",
        "    print (s[i])\n",
        "A range function is used to loop over some length:\n",
        "\n",
        "range (0, 5)\n",
        "Here, the range loops over  to .  is excluded.\n",
        "-------------------------------------------------------------------------------------------------\n",
        "\"\"\"\n",
        "#Created by Ahmet Sina Soykan\n",
        "\n",
        "def count_substring(string, sub_string):\n",
        "    total = 0\n",
        "    for i in range(len(string)):\n",
        "        if string[i:len(string)].startswith(sub_string):\n",
        "            total += 1\n",
        "    return total\n",
        "\n",
        "if __name__ == '__main__':\n",
        "    string = input().strip()\n",
        "    sub_string = input().strip()\n",
        "\n",
        "    count = count_substring(string, sub_string)\n",
        "    print(count)"
      ]
    }
  ]
}