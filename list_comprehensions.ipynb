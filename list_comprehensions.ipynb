{
  "nbformat": 4,
  "nbformat_minor": 0,
  "metadata": {
    "colab": {
      "provenance": []
    },
    "kernelspec": {
      "name": "python3",
      "display_name": "Python 3"
    },
    "language_info": {
      "name": "python"
    }
  },
  "cells": [
    {
      "cell_type": "code",
      "execution_count": 8,
      "metadata": {
        "colab": {
          "base_uri": "https://localhost:8080/"
        },
        "id": "Anfy5eHLPFSQ",
        "outputId": "3b557408-df63-4076-8e5d-0408e4a9619f"
      },
      "outputs": [
        {
          "output_type": "stream",
          "name": "stdout",
          "text": [
            "2\n",
            "2\n",
            "2\n",
            "2\n",
            "[[0, 0, 0], [0, 0, 1], [0, 1, 0], [0, 1, 2], [0, 2, 1], [0, 2, 2], [1, 0, 0], [1, 0, 2], [1, 1, 1], [1, 1, 2], [1, 2, 0], [1, 2, 1], [1, 2, 2], [2, 0, 1], [2, 0, 2], [2, 1, 0], [2, 1, 1], [2, 1, 2], [2, 2, 0], [2, 2, 1], [2, 2, 2]]\n"
          ]
        }
      ],
      "source": [
        "\"\"\"\n",
        "DEFINITION OF PROBLEM\n",
        "-----------------------------------------------------------------------------------------------\n",
        "Task\n",
        "Let's learn about list comprehensions! You are given three integers  and  representing the dimensions of a cuboid along with an integer . Print a list of all possible coordinates given by  on a 3D grid where the sum of  is not equal to . Here, . Please use list comprehensions rather than multiple loops, as a learning exercise.\n",
        "\n",
        "Example\n",
        "\n",
        "\n",
        "\n",
        "\n",
        "All permutations of  are:\n",
        ".\n",
        "\n",
        "Print an array of the elements that do not sum to .\n",
        "\n",
        "\n",
        "Input Format\n",
        "\n",
        "Four integers  and , each on a separate line.\n",
        "\n",
        "Constraints\n",
        "\n",
        "Print the list in lexicographic increasing order.\n",
        "\n",
        "Sample Input 0\n",
        "\n",
        "1\n",
        "1\n",
        "1\n",
        "2\n",
        "Sample Output 0\n",
        "\n",
        "[[0, 0, 0], [0, 0, 1], [0, 1, 0], [1, 0, 0], [1, 1, 1]]\n",
        "Explanation 0\n",
        "\n",
        "Each variable  and  will have values of  or . All permutations of lists in the form .\n",
        "Remove all arrays that sum to  to leave only the valid permutations.\n",
        "\n",
        "Sample Input 1\n",
        "\n",
        "2\n",
        "2\n",
        "2\n",
        "2\n",
        "Sample Output 1\n",
        "\n",
        "[[0, 0, 0], [0, 0, 1], [0, 1, 0], [0, 1, 2], [0, 2, 1], [0, 2, 2], [1, 0, 0], [1, 0, 2], [1, 1, 1], [1, 1, 2], [1, 2, 0], [1, 2, 1], [1, 2, 2], [2, 0, 1], [2, 0, 2], [2, 1, 0], [2, 1, 1], [2, 1, 2], [2, 2, 0], [2, 2, 1], [2, 2, 2]]\n",
        "-------------------------------------------------------------------------------------------------\n",
        "\"\"\"\n",
        "#Created by Ahmet Sina Soykan\n",
        "\n",
        "if __name__ == '__main__':\n",
        "    x = int(input())\n",
        "    y = int(input())\n",
        "    z = int(input())\n",
        "    n = int(input())\n",
        "a=[]\n",
        "my_list = [[0 for k in range(3)] for j in range((x+1)*(y+1)*(z+1))]\n",
        "\n",
        "for i in range(x+1):\n",
        "    for j in range(y+1):\n",
        "        for k in range(z+1):\n",
        "            index = i*(y+1)*(z+1) + j*(z+1) + k\n",
        "            my_list[index] = [i, j, k]\n",
        "            if (i+j+k==n):\n",
        "              a.append(index)\n",
        "\n",
        "for i in sorted(a, reverse=True):\n",
        "    index = i\n",
        "    if index < 0:\n",
        "        continue\n",
        "    del my_list[index]\n",
        "\n",
        "print(my_list)"
      ]
    },
    {
      "cell_type": "code",
      "source": [],
      "metadata": {
        "id": "I-dtQzppQ-_F"
      },
      "execution_count": null,
      "outputs": []
    }
  ]
}