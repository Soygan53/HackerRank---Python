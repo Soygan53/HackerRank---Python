{
  "nbformat": 4,
  "nbformat_minor": 0,
  "metadata": {
    "colab": {
      "provenance": []
    },
    "kernelspec": {
      "name": "python3",
      "display_name": "Python 3"
    },
    "language_info": {
      "name": "python"
    }
  },
  "cells": [
    {
      "cell_type": "code",
      "execution_count": 4,
      "metadata": {
        "colab": {
          "base_uri": "https://localhost:8080/"
        },
        "id": "Anfy5eHLPFSQ",
        "outputId": "675f7a6b-208f-446e-a3b2-7f9326f8e306"
      },
      "outputs": [
        {
          "output_type": "stream",
          "name": "stdout",
          "text": [
            "8\n",
            "6\n",
            "14\n",
            "2\n",
            "48\n"
          ]
        }
      ],
      "source": [
        "\"\"\"\n",
        "DEFINITION OF PROBLEM\n",
        "-----------------------------------------------------------------------------------------------\n",
        "Task\n",
        "The provided code stub reads two integers from STDIN,  and . Add code to print three lines where:\n",
        "\n",
        "The first line contains the sum of the two numbers.\n",
        "The second line contains the difference of the two numbers (first - second).\n",
        "The third line contains the product of the two numbers.\n",
        "Example\n",
        "\n",
        "\n",
        "Print the following:\n",
        "\n",
        "8\n",
        "-2\n",
        "15\n",
        "Input Format\n",
        "\n",
        "The first line contains the first integer, .\n",
        "The second line contains the second integer, .\n",
        "\n",
        "Constraints\n",
        "\n",
        "\n",
        "\n",
        "Output Format\n",
        "\n",
        "Print the three lines as explained above.\n",
        "\n",
        "Sample Input 0\n",
        "\n",
        "3\n",
        "2\n",
        "Sample Output 0\n",
        "\n",
        "5\n",
        "1\n",
        "6\n",
        "Explanation 0\n",
        "3+2=5\n",
        "3-2=-1\n",
        "3*2=6\n",
        "-------------------------------------------------------------------------------------------------\n",
        "\"\"\"\n",
        "#Created by Ahmet Sina Soykan\n",
        "\n",
        "if __name__ == '__main__':\n",
        "    a = int(input())\n",
        "    b = int(input())\n",
        "print(a+b)\n",
        "print(a-b)\n",
        "print(a*b)"
      ]
    },
    {
      "cell_type": "code",
      "source": [],
      "metadata": {
        "id": "I-dtQzppQ-_F"
      },
      "execution_count": null,
      "outputs": []
    }
  ]
}