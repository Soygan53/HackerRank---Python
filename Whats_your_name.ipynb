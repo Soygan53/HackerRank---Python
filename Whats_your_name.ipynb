{
  "nbformat": 4,
  "nbformat_minor": 0,
  "metadata": {
    "colab": {
      "provenance": []
    },
    "kernelspec": {
      "name": "python3",
      "display_name": "Python 3"
    },
    "language_info": {
      "name": "python"
    }
  },
  "cells": [
    {
      "cell_type": "code",
      "execution_count": 15,
      "metadata": {
        "colab": {
          "base_uri": "https://localhost:8080/"
        },
        "id": "Anfy5eHLPFSQ",
        "outputId": "5cca67ee-b37e-46bc-c2a7-88759700ef04"
      },
      "outputs": [
        {
          "output_type": "stream",
          "name": "stdout",
          "text": [
            "Ahmet Sina\n",
            "Soykan\n",
            "Hello Ahmet Sina Soykan! You just delved into python.\n"
          ]
        }
      ],
      "source": [
        "\"\"\"\n",
        "DEFINITION OF PROBLEM\n",
        "-----------------------------------------------------------------------------------------------\n",
        "Task\n",
        "You are given the firstname and lastname of a person on two different lines. Your task is to read them and print the following:\n",
        "\n",
        "Hello firstname lastname! You just delved into python.\n",
        "\n",
        "Function Description\n",
        "\n",
        "Complete the print_full_name function in the editor below.\n",
        "\n",
        "print_full_name has the following parameters:\n",
        "\n",
        "string first: the first name\n",
        "string last: the last name\n",
        "Prints\n",
        "\n",
        "string: 'Hello  ! You just delved into python' where  and  are replaced with  and .\n",
        "Input Format\n",
        "\n",
        "The first line contains the first name, and the second line contains the last name.\n",
        "\n",
        "Constraints\n",
        "\n",
        "The length of the first and last names are each ≤ .\n",
        "\n",
        "Sample Input 0\n",
        "\n",
        "Ross\n",
        "Taylor\n",
        "Sample Output 0\n",
        "\n",
        "Hello Ross Taylor! You just delved into python.\n",
        "Explanation 0\n",
        "\n",
        "The input read by the program is stored as a string data type. A string is a collection of characters.\n",
        "-------------------------------------------------------------------------------------------------\n",
        "\"\"\"\n",
        "#Created by Ahmet Sina Soykan\n",
        "\n",
        "def print_full_name(first, last):\n",
        "    Isim = \"Hello \" + first + \" \" + last + \"! You just delved into python.\"\n",
        "    print(Isim)\n",
        "if __name__ == '__main__':\n",
        "    first_name = input()\n",
        "    last_name = input()\n",
        "    print_full_name(first_name, last_name)"
      ]
    }
  ]
}