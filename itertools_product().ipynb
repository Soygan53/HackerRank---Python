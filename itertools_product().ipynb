{
  "nbformat": 4,
  "nbformat_minor": 0,
  "metadata": {
    "colab": {
      "provenance": []
    },
    "kernelspec": {
      "name": "python3",
      "display_name": "Python 3"
    },
    "language_info": {
      "name": "python"
    }
  },
  "cells": [
    {
      "cell_type": "code",
      "execution_count": 1,
      "metadata": {
        "colab": {
          "base_uri": "https://localhost:8080/"
        },
        "id": "Anfy5eHLPFSQ",
        "outputId": "051c6f58-829f-4686-d69e-ce0758db1904"
      },
      "outputs": [
        {
          "output_type": "stream",
          "name": "stdout",
          "text": [
            "1 2\n",
            "3 4\n",
            "(1, 3) (1, 4) (2, 3) (2, 4) "
          ]
        }
      ],
      "source": [
        "\"\"\"\n",
        "DEFINITION OF PROBLEM\n",
        "-----------------------------------------------------------------------------------------------\n",
        "Task\n",
        "itertools.product()\n",
        "\n",
        "This tool computes the cartesian product of input iterables.\n",
        "It is equivalent to nested for-loops.\n",
        "For example, product(A, B) returns the same as ((x,y) for x in A for y in B).\n",
        "\n",
        "Sample Code\n",
        "\n",
        ">>> from itertools import product\n",
        ">>>\n",
        ">>> print list(product([1,2,3],repeat = 2))\n",
        "[(1, 1), (1, 2), (1, 3), (2, 1), (2, 2), (2, 3), (3, 1), (3, 2), (3, 3)]\n",
        ">>>\n",
        ">>> print list(product([1,2,3],[3,4]))\n",
        "[(1, 3), (1, 4), (2, 3), (2, 4), (3, 3), (3, 4)]\n",
        ">>>\n",
        ">>> A = [[1,2,3],[3,4,5]]\n",
        ">>> print list(product(*A))\n",
        "[(1, 3), (1, 4), (1, 5), (2, 3), (2, 4), (2, 5), (3, 3), (3, 4), (3, 5)]\n",
        ">>>\n",
        ">>> B = [[1,2,3],[3,4,5],[7,8]]\n",
        ">>> print list(product(*B))\n",
        "[(1, 3, 7), (1, 3, 8), (1, 4, 7), (1, 4, 8), (1, 5, 7), (1, 5, 8), (2, 3, 7), (2, 3, 8), (2, 4, 7), (2, 4, 8), (2, 5, 7), (2, 5, 8), (3, 3, 7), (3, 3, 8), (3, 4, 7), (3, 4, 8), (3, 5, 7), (3, 5, 8)]\n",
        "Task\n",
        "\n",
        "You are given a two lists  and . Your task is to compute their cartesian product X.\n",
        "\n",
        "Example\n",
        "\n",
        "A = [1, 2]\n",
        "B = [3, 4]\n",
        "\n",
        "AxB = [(1, 3), (1, 4), (2, 3), (2, 4)]\n",
        "Note:  and  are sorted lists, and the cartesian product's tuples should be output in sorted order.\n",
        "\n",
        "Input Format\n",
        "\n",
        "The first line contains the space separated elements of list .\n",
        "The second line contains the space separated elements of list .\n",
        "\n",
        "Both lists have no duplicate integer elements.\n",
        "\n",
        "Sample Input\n",
        "\n",
        " 1 2\n",
        " 3 4\n",
        "Sample Output\n",
        "\n",
        " (1, 3) (1, 4) (2, 3) (2, 4)\n",
        "-------------------------------------------------------------------------------------------------\n",
        "\"\"\"\n",
        "#Created by Ahmet Sina Soykan\n",
        "\n",
        "from itertools import product\n",
        "\n",
        "def cartesian_product(arr1, arr2):\n",
        "    return list(product(arr1, arr2))\n",
        "\n",
        "\n",
        "if __name__ == \"__main__\":\n",
        "    arr1 = list(map(int, input().split()))\n",
        "    arr2 = list(map(int, input().split()))\n",
        "\n",
        "    result = cartesian_product(arr1, arr2)\n",
        "    for pair in result:\n",
        "        print(f\"({pair[0]}, {pair[1]})\", end=\" \")"
      ]
    }
  ]
}