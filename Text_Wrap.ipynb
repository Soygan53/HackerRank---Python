{
  "nbformat": 4,
  "nbformat_minor": 0,
  "metadata": {
    "colab": {
      "provenance": []
    },
    "kernelspec": {
      "name": "python3",
      "display_name": "Python 3"
    },
    "language_info": {
      "name": "python"
    }
  },
  "cells": [
    {
      "cell_type": "code",
      "execution_count": 1,
      "metadata": {
        "colab": {
          "base_uri": "https://localhost:8080/"
        },
        "id": "Anfy5eHLPFSQ",
        "outputId": "a31cfade-a780-4c58-c779-bc17d66691a2"
      },
      "outputs": [
        {
          "output_type": "stream",
          "name": "stdout",
          "text": [
            "ABCDEFGHIJKLIMNOQRSTUVWXYZ\n",
            "4\n",
            "ABCD\n",
            "EFGH\n",
            "IJKL\n",
            "IMNO\n",
            "QRST\n",
            "UVWX\n",
            "YZ\n"
          ]
        }
      ],
      "source": [
        "\"\"\"\n",
        "DEFINITION OF PROBLEM\n",
        "-----------------------------------------------------------------------------------------------\n",
        "Task\n",
        "You are given a string  and width .\n",
        "Your task is to wrap the string into a paragraph of width .\n",
        "\n",
        "Function Description\n",
        "\n",
        "Complete the wrap function in the editor below.\n",
        "\n",
        "wrap has the following parameters:\n",
        "\n",
        "string string: a long string\n",
        "int max_width: the width to wrap to\n",
        "Returns\n",
        "\n",
        "string: a single string with newline characters ('\\n') where the breaks should be\n",
        "Sample Input 0\n",
        "\n",
        "ABCDEFGHIJKLIMNOQRSTUVWXYZ\n",
        "4\n",
        "Sample Output 0\n",
        "\n",
        "ABCD\n",
        "EFGH\n",
        "IJKL\n",
        "IMNO\n",
        "QRST\n",
        "UVWX\n",
        "YZ\n",
        "-------------------------------------------------------------------------------------------------\n",
        "\"\"\"\n",
        "#Created by Ahmet Sina Soykan\n",
        "\n",
        "import textwrap\n",
        "\n",
        "def wrap(string, max_width):\n",
        "    return textwrap.fill(string, max_width)\n",
        "\n",
        "if __name__ == '__main__':\n",
        "    string, max_width = input(), int(input())\n",
        "    result = wrap(string, max_width)\n",
        "    print(result)"
      ]
    }
  ]
}