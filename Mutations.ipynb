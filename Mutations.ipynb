{
  "nbformat": 4,
  "nbformat_minor": 0,
  "metadata": {
    "colab": {
      "provenance": []
    },
    "kernelspec": {
      "name": "python3",
      "display_name": "Python 3"
    },
    "language_info": {
      "name": "python"
    }
  },
  "cells": [
    {
      "cell_type": "code",
      "execution_count": 17,
      "metadata": {
        "colab": {
          "base_uri": "https://localhost:8080/"
        },
        "id": "Anfy5eHLPFSQ",
        "outputId": "c2cd450b-faa6-47a2-b556-31b2c5f0f88c"
      },
      "outputs": [
        {
          "output_type": "stream",
          "name": "stdout",
          "text": [
            "abracadabra\n",
            "5 k\n",
            "abrackdabra\n"
          ]
        }
      ],
      "source": [
        "\"\"\"\n",
        "DEFINITION OF PROBLEM\n",
        "-----------------------------------------------------------------------------------------------\n",
        "Task\n",
        "We have seen that lists are mutable (they can be changed), and tuples are immutable (they cannot be changed).\n",
        "\n",
        "Let's try to understand this with an example.\n",
        "\n",
        "You are given an immutable string, and you want to make changes to it.\n",
        "\n",
        "Example\n",
        "\n",
        ">>> string = \"abracadabra\"\n",
        "You can access an index by:\n",
        "\n",
        ">>> print string[5]\n",
        "a\n",
        "What if you would like to assign a value?\n",
        "\n",
        ">>> string[5] = 'k'\n",
        "Traceback (most recent call last):\n",
        "  File \"<stdin>\", line 1, in <module>\n",
        "TypeError: 'str' object does not support item assignment\n",
        "How would you approach this?\n",
        "\n",
        "One solution is to convert the string to a list and then change the value.\n",
        "Example\n",
        "\n",
        ">>> string = \"abracadabra\"\n",
        ">>> l = list(string)\n",
        ">>> l[5] = 'k'\n",
        ">>> string = ''.join(l)\n",
        ">>> print string\n",
        "abrackdabra\n",
        "Another approach is to slice the string and join it back.\n",
        "Example\n",
        "\n",
        ">>> string = string[:5] + \"k\" + string[6:]\n",
        ">>> print string\n",
        "abrackdabra\n",
        "Task\n",
        "Read a given string, change the character at a given index and then print the modified string.\n",
        "Function Description\n",
        "\n",
        "Complete the mutate_string function in the editor below.\n",
        "\n",
        "mutate_string has the following parameters:\n",
        "\n",
        "string string: the string to change\n",
        "int position: the index to insert the character at\n",
        "string character: the character to insert\n",
        "Returns\n",
        "\n",
        "string: the altered string\n",
        "Input Format\n",
        "\n",
        "The first line contains a string, .\n",
        "The next line contains an integer , the index location and a string , separated by a space.\n",
        "\n",
        "Sample Input\n",
        "\n",
        "STDIN           Function\n",
        "-----           --------\n",
        "abracadabra     s = 'abracadabra'\n",
        "5 k             position = 5, character = 'k'\n",
        "Sample Output\n",
        "\n",
        "abrackdabra\n",
        "-------------------------------------------------------------------------------------------------\n",
        "\"\"\"\n",
        "#Created by Ahmet Sina Soykan\n",
        "\n",
        "def mutate_string(string, position, character):\n",
        "    uzunluk=len(string)\n",
        "    string=string[:position]+character+string[(position+1):]\n",
        "    return(string)\n",
        "if __name__ == '__main__':\n",
        "    s = input()\n",
        "    i, c = input().split()\n",
        "    s_new = mutate_string(s, int(i), c)\n",
        "    print(s_new)"
      ]
    }
  ]
}