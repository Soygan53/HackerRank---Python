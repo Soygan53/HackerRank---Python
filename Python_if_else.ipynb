{
  "nbformat": 4,
  "nbformat_minor": 0,
  "metadata": {
    "colab": {
      "provenance": []
    },
    "kernelspec": {
      "name": "python3",
      "display_name": "Python 3"
    },
    "language_info": {
      "name": "python"
    }
  },
  "cells": [
    {
      "cell_type": "code",
      "execution_count": 2,
      "metadata": {
        "colab": {
          "base_uri": "https://localhost:8080/"
        },
        "id": "Anfy5eHLPFSQ",
        "outputId": "69539e01-5330-4eed-814a-cd09807aa9eb"
      },
      "outputs": [
        {
          "output_type": "stream",
          "name": "stdout",
          "text": [
            "23\n",
            "Weird\n"
          ]
        }
      ],
      "source": [
        "\"\"\"\n",
        "DEFINITION OF PROBLEM\n",
        "-----------------------------------------------------------------------------------------------\n",
        "Task\n",
        "Given an integer, , perform the following conditional actions:\n",
        "\n",
        "If  is odd, print Weird\n",
        "If  is even and in the inclusive range of  to , print Not Weird\n",
        "If  is even and in the inclusive range of  to , print Weird\n",
        "If  is even and greater than , print Not Weird\n",
        "Input Format\n",
        "\n",
        "A single line containing a positive integer, .\n",
        "\n",
        "Constraints\n",
        "\n",
        "Output Format\n",
        "\n",
        "Print Weird if the number is weird. Otherwise, print Not Weird.\n",
        "\n",
        "Sample Input 0\n",
        "\n",
        "3\n",
        "Sample Output 0\n",
        "\n",
        "Weird\n",
        "Explanation 0\n",
        "\n",
        "\n",
        " is odd and odd numbers are weird, so print Weird.\n",
        "\n",
        "Sample Input 1\n",
        "\n",
        "24\n",
        "Sample Output 1\n",
        "\n",
        "Not Weird\n",
        "Explanation 1\n",
        "\n",
        "\n",
        " and  is even, so it is not weird.\n",
        "-------------------------------------------------------------------------------------------------\n",
        "\"\"\"\n",
        "#Created by Ahmet Sina Soykan\n",
        "\n",
        "if __name__ == '__main__':\n",
        "    n = int(input().strip())\n",
        "    if(n%2==1):\n",
        "        print(\"Weird\")\n",
        "    elif(n>=2) and (n<=5):\n",
        "        print(\"Not Weird\")\n",
        "    elif(n>=6) and (n<=20):\n",
        "        print(\"Weird\")\n",
        "    else:\n",
        "        print(\"Not Weird\")"
      ]
    }
  ]
}