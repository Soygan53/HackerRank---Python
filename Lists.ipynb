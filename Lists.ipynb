{
  "nbformat": 4,
  "nbformat_minor": 0,
  "metadata": {
    "colab": {
      "provenance": []
    },
    "kernelspec": {
      "name": "python3",
      "display_name": "Python 3"
    },
    "language_info": {
      "name": "python"
    }
  },
  "cells": [
    {
      "cell_type": "code",
      "execution_count": 1,
      "metadata": {
        "colab": {
          "base_uri": "https://localhost:8080/"
        },
        "id": "Anfy5eHLPFSQ",
        "outputId": "036177a2-2da5-44e9-aea4-9ccb243a5d8f"
      },
      "outputs": [
        {
          "output_type": "stream",
          "name": "stdout",
          "text": [
            "12\n",
            "insert 0 5\n",
            "insert 1 10\n",
            "insert 0 6\n",
            "print\n",
            "[6, 5, 10]\n",
            "remove 6\n",
            "append 9\n",
            "append 1\n",
            "sort\n",
            "print\n",
            "[1, 5, 9, 10]\n",
            "pop\n",
            "reverse\n",
            "print\n",
            "[9, 5, 1]\n"
          ]
        }
      ],
      "source": [
        "\"\"\"\n",
        "DEFINITION OF PROBLEM\n",
        "-----------------------------------------------------------------------------------------------\n",
        "Task\n",
        "Consider a list (list = []). You can perform the following commands:\n",
        "\n",
        "insert i e: Insert integer  at position .\n",
        "print: Print the list.\n",
        "remove e: Delete the first occurrence of integer .\n",
        "append e: Insert integer  at the end of the list.\n",
        "sort: Sort the list.\n",
        "pop: Pop the last element from the list.\n",
        "reverse: Reverse the list.\n",
        "Initialize your list and read in the value of  followed by  lines of commands where each command will be of the  types listed above. Iterate through each command in order and perform the corresponding operation on your list.\n",
        "Input Format\n",
        "\n",
        "The first line contains an integer, , denoting the number of commands.\n",
        "Each line  of the  subsequent lines contains one of the commands described above.\n",
        "\n",
        "Constraints\n",
        "\n",
        "The elements added to the list must be integers.\n",
        "Output Format\n",
        "\n",
        "For each command of type print, print the list on a new line.\n",
        "\n",
        "Sample Input 0\n",
        "\n",
        "12\n",
        "insert 0 5\n",
        "insert 1 10\n",
        "insert 0 6\n",
        "print\n",
        "remove 6\n",
        "append 9\n",
        "append 1\n",
        "sort\n",
        "print\n",
        "pop\n",
        "reverse\n",
        "print\n",
        "Sample Output 0\n",
        "\n",
        "[6, 5, 10]\n",
        "[1, 5, 9, 10]\n",
        "[9, 5, 1]\n",
        "-------------------------------------------------------------------------------------------------\n",
        "\"\"\"\n",
        "#Created by Ahmet Sina Soykan\n",
        "\n",
        "if __name__ == '__main__':\n",
        "    N = int(input())\n",
        "    liste1 = []\n",
        "    for i in range(N):\n",
        "        talimat=input()\n",
        "        splitted_talimat=str.split(talimat)\n",
        "        if(splitted_talimat[0]==\"insert\"):\n",
        "            liste1.insert(int(splitted_talimat[1]),int(splitted_talimat[2]))\n",
        "        elif(splitted_talimat[0]==\"append\"):\n",
        "            liste1.append(int(splitted_talimat[1]))\n",
        "        elif(splitted_talimat[0]==\"remove\"):\n",
        "            liste1.remove(int(splitted_talimat[1]))\n",
        "        elif(splitted_talimat[0]==\"print\"):\n",
        "            print(liste1)\n",
        "        elif(splitted_talimat[0]==\"sort\"):\n",
        "            liste1.sort()\n",
        "        elif(splitted_talimat[0]==\"reverse\"):\n",
        "            liste1.reverse()\n",
        "        elif(splitted_talimat[0]==\"pop\"):\n",
        "            liste1.pop()"
      ]
    }
  ]
}