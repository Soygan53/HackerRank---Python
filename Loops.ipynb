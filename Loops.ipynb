{
  "nbformat": 4,
  "nbformat_minor": 0,
  "metadata": {
    "colab": {
      "provenance": []
    },
    "kernelspec": {
      "name": "python3",
      "display_name": "Python 3"
    },
    "language_info": {
      "name": "python"
    }
  },
  "cells": [
    {
      "cell_type": "code",
      "execution_count": 6,
      "metadata": {
        "colab": {
          "base_uri": "https://localhost:8080/"
        },
        "id": "Anfy5eHLPFSQ",
        "outputId": "8efdd650-9949-4b42-ba07-74bdea1abd16"
      },
      "outputs": [
        {
          "output_type": "stream",
          "name": "stdout",
          "text": [
            "5\n",
            "0\n",
            "1\n",
            "4\n",
            "9\n",
            "16\n"
          ]
        }
      ],
      "source": [
        "\"\"\"\n",
        "DEFINITION OF PROBLEM\n",
        "-----------------------------------------------------------------------------------------------\n",
        "Task\n",
        "The provided code stub reads and integer, , from STDIN. For all non-negative integers , print .\n",
        "\n",
        "Example\n",
        "\n",
        "The list of non-negative integers that are less than  is . Print the square of each number on a separate line.\n",
        "\n",
        "0\n",
        "1\n",
        "4\n",
        "Input Format\n",
        "\n",
        "The first and only line contains the integer, .\n",
        "\n",
        "Constraints\n",
        "\n",
        "\n",
        "Output Format\n",
        "\n",
        "Print  lines, one corresponding to each .\n",
        "\n",
        "Sample Input 0\n",
        "\n",
        "5\n",
        "Sample Output 0\n",
        "\n",
        "0\n",
        "1\n",
        "4\n",
        "9\n",
        "16\n",
        "-------------------------------------------------------------------------------------------------\n",
        "\"\"\"\n",
        "#Created by Ahmet Sina Soykan\n",
        "\n",
        "if __name__ == '__main__':\n",
        "    n = int(input())\n",
        "for i in range(n):\n",
        "    print(i**2)"
      ]
    },
    {
      "cell_type": "code",
      "source": [],
      "metadata": {
        "id": "I-dtQzppQ-_F"
      },
      "execution_count": null,
      "outputs": []
    }
  ]
}